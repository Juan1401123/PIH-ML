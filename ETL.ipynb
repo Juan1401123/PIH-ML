{
 "cells": [
  {
   "cell_type": "code",
   "execution_count": 1,
   "metadata": {},
   "outputs": [],
   "source": [
    "import pandas as pd\n",
    "import numpy as np\n",
    "import ast\n",
    "import json\n",
    "from pandas import json_normalize"
   ]
  },
  {
   "attachments": {},
   "cell_type": "markdown",
   "metadata": {},
   "source": [
    "Creamos la funcion para eliminar las comillas de los diccionarios"
   ]
  },
  {
   "cell_type": "code",
   "execution_count": 2,
   "metadata": {},
   "outputs": [],
   "source": [
    "def dictconverter(n):\n",
    "    \n",
    "    return ast.literal_eval(n)\n",
    "\n",
    "\n",
    "\n",
    "    \n",
    "    "
   ]
  },
  {
   "attachments": {},
   "cell_type": "markdown",
   "metadata": {},
   "source": [
    "Cargamos el Dataframe"
   ]
  },
  {
   "cell_type": "code",
   "execution_count": 3,
   "metadata": {},
   "outputs": [
    {
     "name": "stderr",
     "output_type": "stream",
     "text": [
      "C:\\Users\\EQUIPO\\AppData\\Local\\Temp\\ipykernel_12096\\298746955.py:1: DtypeWarning: Columns (10) have mixed types. Specify dtype option on import or set low_memory=False.\n",
      "  df=pd.read_csv('../PIH_ML/datasets/movies_dataset.csv')\n"
     ]
    }
   ],
   "source": [
    "df=pd.read_csv('../PIH_ML/datasets/movies_dataset.csv')\n"
   ]
  },
  {
   "attachments": {},
   "cell_type": "markdown",
   "metadata": {},
   "source": [
    "Creeamos un dataframe de calendario para poder identificar las fechas por el dia."
   ]
  },
  {
   "cell_type": "code",
   "execution_count": 4,
   "metadata": {},
   "outputs": [],
   "source": [
    "calendario=pd.read_csv('../PIH_ML/datasets/calendario.csv',encoding='ISO-8859-1')"
   ]
  },
  {
   "cell_type": "code",
   "execution_count": 5,
   "metadata": {},
   "outputs": [
    {
     "data": {
      "text/plain": [
       "0        1995-10-30\n",
       "1        1995-12-15\n",
       "2        1995-12-22\n",
       "3        1995-12-22\n",
       "4        1995-02-10\n",
       "            ...    \n",
       "45461           NaN\n",
       "45462    2011-11-17\n",
       "45463    2003-08-01\n",
       "45464    1917-10-21\n",
       "45465    2017-06-09\n",
       "Name: release_date, Length: 45466, dtype: object"
      ]
     },
     "execution_count": 5,
     "metadata": {},
     "output_type": "execute_result"
    }
   ],
   "source": [
    "df['release_date']"
   ]
  },
  {
   "cell_type": "code",
   "execution_count": 6,
   "metadata": {},
   "outputs": [],
   "source": [
    "calendario['Día'].replace(['Monday'],'lunes',inplace=True)\n",
    "calendario['Día'].replace(['Tuesday'],'martes',inplace=True)\n",
    "calendario['Día'].replace(['Wednesday'],'miercoles',inplace=True)\n",
    "calendario['Día'].replace(['Thursday'],'jueves',inplace=True)\n",
    "calendario['Día'].replace(['Friday'],'viernes',inplace=True)\n",
    "calendario['Día'].replace(['Saturday'],'sabado',inplace=True)\n",
    "calendario['Día'].replace(['Sunday'],'domingo',inplace=True)"
   ]
  },
  {
   "attachments": {},
   "cell_type": "markdown",
   "metadata": {},
   "source": [
    "Remplazamos los datos Nan de las columnas revenue y budget por 0 y de las columnas con con diccionarios dentro por un string y eliminamos los valores Nan en release_date"
   ]
  },
  {
   "cell_type": "code",
   "execution_count": 7,
   "metadata": {},
   "outputs": [],
   "source": [
    "df['production_countries'].fillna('0',inplace=True)\n",
    "df['belongs_to_collection'].fillna('0',inplace=True)\n",
    "df['production_companies'].fillna('0',inplace=True)\n",
    "df['revenue'].fillna(0,inplace=True)\n",
    "df['budget'].fillna(0,inplace=True)\n",
    "df['release_date'].dropna(inplace=True)\n"
   ]
  },
  {
   "attachments": {},
   "cell_type": "markdown",
   "metadata": {},
   "source": [
    "Aplicamos la funcion anteriormente creada para los diccionarios"
   ]
  },
  {
   "cell_type": "code",
   "execution_count": 8,
   "metadata": {},
   "outputs": [],
   "source": [
    "df['production_countries']=df['production_countries'].apply(dictconverter)\n",
    "df['belongs_to_collection']=df['belongs_to_collection'].apply(dictconverter)\n",
    "df['production_companies']=df['production_companies'].apply(dictconverter)"
   ]
  },
  {
   "attachments": {},
   "cell_type": "markdown",
   "metadata": {},
   "source": [
    "Creamos nuevas columnas con el fin de asignarles valores que se encuentran dentro de los diccionarios, los cuales asignaremos posteriormente"
   ]
  },
  {
   "attachments": {},
   "cell_type": "markdown",
   "metadata": {},
   "source": [
    "De esta manera sera mas sencillo acceder a esta informacion mediante las funciones que crearemos mas adelante"
   ]
  },
  {
   "cell_type": "code",
   "execution_count": 9,
   "metadata": {},
   "outputs": [],
   "source": [
    "df['production_countries_name']= df.index\n",
    "df['production_companies_name']= df.index\n",
    "df['release_year']=0\n",
    "df['release_day']=0\n",
    "df['release_month']=0\n",
    "df['belongs_to_collection_name']=0\n",
    "df['return']=0"
   ]
  },
  {
   "attachments": {},
   "cell_type": "markdown",
   "metadata": {},
   "source": [
    "Asignamos los valores que estan dentro de los diccionarios a las nuevas columnas anteriormente creadas"
   ]
  },
  {
   "cell_type": "code",
   "execution_count": 10,
   "metadata": {},
   "outputs": [
    {
     "name": "stderr",
     "output_type": "stream",
     "text": [
      "C:\\Users\\EQUIPO\\AppData\\Local\\Temp\\ipykernel_12096\\451989959.py:7: SettingWithCopyWarning: \n",
      "A value is trying to be set on a copy of a slice from a DataFrame\n",
      "\n",
      "See the caveats in the documentation: https://pandas.pydata.org/pandas-docs/stable/user_guide/indexing.html#returning-a-view-versus-a-copy\n",
      "  df['production_countries_name'][index]=arr\n"
     ]
    }
   ],
   "source": [
    "for index,i in enumerate(df['production_countries']):\n",
    "    if isinstance(i,list):\n",
    "     arr=[]\n",
    "     for e in i:\n",
    "        arr.append(e['name'])\n",
    "\n",
    "     df['production_countries_name'][index]=arr\n",
    "\n",
    "\n"
   ]
  },
  {
   "cell_type": "code",
   "execution_count": 11,
   "metadata": {},
   "outputs": [
    {
     "name": "stderr",
     "output_type": "stream",
     "text": [
      "C:\\Users\\EQUIPO\\AppData\\Local\\Temp\\ipykernel_12096\\810360057.py:6: SettingWithCopyWarning: \n",
      "A value is trying to be set on a copy of a slice from a DataFrame\n",
      "\n",
      "See the caveats in the documentation: https://pandas.pydata.org/pandas-docs/stable/user_guide/indexing.html#returning-a-view-versus-a-copy\n",
      "  df['production_companies_name'][index]=arr\n"
     ]
    }
   ],
   "source": [
    "for index, i in enumerate(df['production_companies']):\n",
    "    if isinstance(i,list):\n",
    "        arr=[]\n",
    "        for e in i:\n",
    "            arr.append(e['name'])\n",
    "        df['production_companies_name'][index]=arr"
   ]
  },
  {
   "cell_type": "code",
   "execution_count": 12,
   "metadata": {},
   "outputs": [
    {
     "name": "stderr",
     "output_type": "stream",
     "text": [
      "C:\\Users\\EQUIPO\\AppData\\Local\\Temp\\ipykernel_12096\\819136044.py:3: SettingWithCopyWarning: \n",
      "A value is trying to be set on a copy of a slice from a DataFrame\n",
      "\n",
      "See the caveats in the documentation: https://pandas.pydata.org/pandas-docs/stable/user_guide/indexing.html#returning-a-view-versus-a-copy\n",
      "  df['belongs_to_collection_name'][index]=i['name']\n"
     ]
    }
   ],
   "source": [
    "for index,i in enumerate(df['belongs_to_collection']):\n",
    "    if isinstance(i,dict):\n",
    "     df['belongs_to_collection_name'][index]=i['name']"
   ]
  },
  {
   "cell_type": "code",
   "execution_count": 13,
   "metadata": {},
   "outputs": [
    {
     "name": "stderr",
     "output_type": "stream",
     "text": [
      "C:\\Users\\EQUIPO\\AppData\\Local\\Temp\\ipykernel_12096\\128893373.py:3: SettingWithCopyWarning: \n",
      "A value is trying to be set on a copy of a slice from a DataFrame\n",
      "\n",
      "See the caveats in the documentation: https://pandas.pydata.org/pandas-docs/stable/user_guide/indexing.html#returning-a-view-versus-a-copy\n",
      "  df['release_year'][index]=i.split('-')[0]\n"
     ]
    }
   ],
   "source": [
    "for index,i in enumerate(df['release_date']):\n",
    "    if isinstance(i,str):\n",
    "     df['release_year'][index]=i.split('-')[0]\n",
    "\n"
   ]
  },
  {
   "cell_type": "code",
   "execution_count": 14,
   "metadata": {},
   "outputs": [
    {
     "name": "stderr",
     "output_type": "stream",
     "text": [
      "C:\\Users\\EQUIPO\\AppData\\Local\\Temp\\ipykernel_12096\\3700035161.py:3: SettingWithCopyWarning: \n",
      "A value is trying to be set on a copy of a slice from a DataFrame\n",
      "\n",
      "See the caveats in the documentation: https://pandas.pydata.org/pandas-docs/stable/user_guide/indexing.html#returning-a-view-versus-a-copy\n",
      "  df['release_month'][index]=i.split('-')[1]\n"
     ]
    }
   ],
   "source": [
    "for index,i in enumerate(df['release_date']):\n",
    "    if isinstance(i,str)and len(i)==10:\n",
    "     df['release_month'][index]=i.split('-')[1]\n",
    "\n"
   ]
  },
  {
   "cell_type": "code",
   "execution_count": 15,
   "metadata": {},
   "outputs": [
    {
     "name": "stderr",
     "output_type": "stream",
     "text": [
      "C:\\Users\\EQUIPO\\AppData\\Local\\Temp\\ipykernel_12096\\2456368780.py:3: SettingWithCopyWarning: \n",
      "A value is trying to be set on a copy of a slice from a DataFrame\n",
      "\n",
      "See the caveats in the documentation: https://pandas.pydata.org/pandas-docs/stable/user_guide/indexing.html#returning-a-view-versus-a-copy\n",
      "  df['release_day'][index]=i.split('-')[2]\n"
     ]
    }
   ],
   "source": [
    "    \n",
    "for index,i in enumerate(df['release_date']):\n",
    "    if isinstance(i,str) and len(i)==10:\n",
    "     df['release_day'][index]=i.split('-')[2]"
   ]
  },
  {
   "attachments": {},
   "cell_type": "markdown",
   "metadata": {},
   "source": [
    "Eliminamos los datos basura"
   ]
  },
  {
   "cell_type": "code",
   "execution_count": 16,
   "metadata": {},
   "outputs": [],
   "source": [
    "df['revenue'].replace([0],1,inplace=True)\n",
    "df['budget'].replace(['0','/ff9qCepilowshEtG2GYWwzt2bs4.jpg','/zV8bHuSL6WXoD6FWogP9j4x80bL.jpg','/zaSf5OG7V8X8gqFvly88zDdRm46.jpg'],'1',inplace=True)"
   ]
  },
  {
   "attachments": {},
   "cell_type": "markdown",
   "metadata": {},
   "source": [
    "Converitmos los datos dentro de esta columna en integer para poder dividirlos posteriormente"
   ]
  },
  {
   "cell_type": "code",
   "execution_count": 17,
   "metadata": {},
   "outputs": [],
   "source": [
    "df['budget']=df['budget'].apply(lambda x:int(x))\n",
    "df['release_year']=df['release_year'].apply(lambda x:int(x))\n"
   ]
  },
  {
   "cell_type": "code",
   "execution_count": 18,
   "metadata": {},
   "outputs": [],
   "source": [
    "df['return']=df['revenue']/df['budget']"
   ]
  },
  {
   "cell_type": "code",
   "execution_count": 19,
   "metadata": {},
   "outputs": [],
   "source": [
    "df['budget'].replace([1],0,inplace=True)\n",
    "df['revenue'].replace([1],0,inplace=True)\n"
   ]
  },
  {
   "attachments": {},
   "cell_type": "markdown",
   "metadata": {},
   "source": [
    "Conservamos unicamente las columnas relevantes a comsumir por las funciones y el modelo de recomendacion."
   ]
  },
  {
   "cell_type": "code",
   "execution_count": 20,
   "metadata": {},
   "outputs": [],
   "source": [
    "Ultimate_df=df[['id','release_year','release_month','release_day','release_date','production_countries_name','belongs_to_collection_name','production_companies_name','original_title','title','budget','revenue','return','vote_average','popularity','vote_count']]"
   ]
  },
  {
   "attachments": {},
   "cell_type": "markdown",
   "metadata": {},
   "source": [
    "Unimos la tabla calendario con nuestra base da datos trasnformada para identificar el dia.\n"
   ]
  },
  {
   "cell_type": "code",
   "execution_count": 21,
   "metadata": {},
   "outputs": [],
   "source": [
    "Ultimate_df=Ultimate_df.merge(calendario,left_on='release_date',right_on='Fecha',how='left')"
   ]
  },
  {
   "cell_type": "code",
   "execution_count": 22,
   "metadata": {},
   "outputs": [
    {
     "name": "stderr",
     "output_type": "stream",
     "text": [
      "c:\\Users\\EQUIPO\\Documents\\PIH_ML\\Datos.py:4: DtypeWarning: Columns (15) have mixed types. Specify dtype option on import or set low_memory=False.\n",
      "  Ultimate_df= pd.read_csv('../PIH_ML/Final-Datasets/datos-transformados.csv')\n"
     ]
    }
   ],
   "source": [
    "from Datos import Ultimate_df"
   ]
  },
  {
   "attachments": {},
   "cell_type": "markdown",
   "metadata": {},
   "source": [
    "Definimos las funciones a utilizar en la api y las probamos que funcionen con la base de datos transformada y convertida a csv."
   ]
  },
  {
   "attachments": {},
   "cell_type": "markdown",
   "metadata": {},
   "source": [
    "Funcion 1"
   ]
  },
  {
   "cell_type": "code",
   "execution_count": 23,
   "metadata": {},
   "outputs": [],
   "source": [
    "def peliculas_mes(mes):\n",
    "    meses={'enero':1,'febrero':2,'marzo':3,'abril':4,'mayo':5,'junio':6,'julio':7,'agosto':8,'septiembre':9,'octubre':10,'noviembre':11,'diciembre':12}\n",
    "\n",
    "    dfm=Ultimate_df[Ultimate_df['release_month']==meses[mes]]\n",
    "    return 'mes:'+mes+' cantidad:'+str(len(dfm))\n"
   ]
  },
  {
   "attachments": {},
   "cell_type": "markdown",
   "metadata": {},
   "source": [
    "Funcion 2"
   ]
  },
  {
   "cell_type": "code",
   "execution_count": 24,
   "metadata": {},
   "outputs": [],
   "source": [
    "def peliculas_dia(dia):\n",
    "    dfd=Ultimate_df[Ultimate_df['Día']==dia]\n",
    "    return 'dia:'+dia+' '+' cantidad:'+ str(len(dfd))\n",
    "    "
   ]
  },
  {
   "attachments": {},
   "cell_type": "markdown",
   "metadata": {},
   "source": [
    "Funcion 3"
   ]
  },
  {
   "cell_type": "code",
   "execution_count": 25,
   "metadata": {},
   "outputs": [],
   "source": [
    "def franquicia(franquicia):\n",
    "    dff=Ultimate_df[Ultimate_df['belongs_to_collection_name']==franquicia]\n",
    "    dff=dff[dff['revenue']>1]\n",
    "    if len(dff)>1:\n",
    "     return 'Franquicia:'+franquicia+' Cantidad:'+ str(len(dff))+' Ganancia Total:'+str(sum(dff['revenue']))+' Ganancia Promedio:'+str(sum(dff['revenue'])/len(dff))\n",
    "    else:\n",
    "       return 'No hay registros de las ganancias de esta franquicia en la base de datos'"
   ]
  },
  {
   "attachments": {},
   "cell_type": "markdown",
   "metadata": {},
   "source": [
    "Funcion 4"
   ]
  },
  {
   "cell_type": "code",
   "execution_count": 26,
   "metadata": {},
   "outputs": [],
   "source": [
    "def peliculas_pais(pais):\n",
    "    counter=0\n",
    "    for i in Ultimate_df['production_countries_name'].apply(lambda x:ast.literal_eval(x)):\n",
    "        if isinstance(i,list):\n",
    "             for e in i:\n",
    "                if e==pais:\n",
    "                    counter+=1\n",
    "    return 'pais:'+str(pais)+' cantidad:' +str(counter)               \n"
   ]
  },
  {
   "attachments": {},
   "cell_type": "markdown",
   "metadata": {},
   "source": [
    "Funcion 5"
   ]
  },
  {
   "cell_type": "code",
   "execution_count": 27,
   "metadata": {},
   "outputs": [],
   "source": [
    "def productoras(productora):\n",
    "    counter=0\n",
    "    sumar=0\n",
    "    for index,i in enumerate(Ultimate_df['production_companies_name'].apply(lambda x:ast.literal_eval(x))):\n",
    "     if isinstance(i,list):\n",
    "        for e in i:\n",
    "            if e==productora:\n",
    "               counter+=1\n",
    "               sumar+=Ultimate_df['revenue'][index]\n",
    "    return 'productora:'+productora+' ganancia total:'+ str(sumar)+' cantidad:'+ str(counter)"
   ]
  },
  {
   "attachments": {},
   "cell_type": "markdown",
   "metadata": {},
   "source": [
    "Funcion 6"
   ]
  },
  {
   "cell_type": "code",
   "execution_count": 28,
   "metadata": {},
   "outputs": [],
   "source": [
    "def retorno(pelicula):\n",
    "    pdf=Ultimate_df[Ultimate_df['title']==pelicula]\n",
    "    return 'pelicula:'+pelicula+' inversion:'+str(sum(pdf['budget']))+' ganancia:'+str(sum(pdf['revenue']))+' retorno:'+str(sum(pdf['return']))+' anio:'+str(pdf['release_year'][0])"
   ]
  }
 ],
 "metadata": {
  "kernelspec": {
   "display_name": "Python 3",
   "language": "python",
   "name": "python3"
  },
  "language_info": {
   "codemirror_mode": {
    "name": "ipython",
    "version": 3
   },
   "file_extension": ".py",
   "mimetype": "text/x-python",
   "name": "python",
   "nbconvert_exporter": "python",
   "pygments_lexer": "ipython3",
   "version": "3.10.11"
  },
  "orig_nbformat": 4
 },
 "nbformat": 4,
 "nbformat_minor": 2
}
